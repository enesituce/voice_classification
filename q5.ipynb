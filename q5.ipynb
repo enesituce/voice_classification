{
 "cells": [
  {
   "cell_type": "code",
   "execution_count": 1,
   "metadata": {},
   "outputs": [],
   "source": [
    "#Question 5)\n",
    "import os\n",
    "import librosa\n",
    "import numpy as np\n",
    "import pandas as pd\n",
    "\n",
    "\n",
    "train0 = 'turkish-academy-voice-challenge-part-2/train/train/0_AZIZSANCAR/0_AZIZSANCAR/'\n",
    "train1 = 'turkish-academy-voice-challenge-part-2/train/train/1_BIYKEMBOZKURT/1_BIYKEMBOZKURT/'\n",
    "train2 = 'turkish-academy-voice-challenge-part-2/train/train/2_CAHITARF/2_CAHITARF/'\n",
    "train3 = 'turkish-academy-voice-challenge-part-2/train/train/3_CANANDAGDEVIREN/3_CANANDAGDEVIREN/'\n",
    "train4 = 'turkish-academy-voice-challenge-part-2/train/train/4_CELALSENGOR/4_CELALSENGOR/'\n",
    "train5 = 'turkish-academy-voice-challenge-part-2/train/train/5_GAZIYASARGIL/5_GAZIYASARGIL/'\n",
    "train6 = 'turkish-academy-voice-challenge-part-2/train/train/6_ILBERORTAYLI/6_ILBERORTAYLI/'\n",
    "train7 = 'turkish-academy-voice-challenge-part-2/train/train/7_KORAYKAVUKCUOGLU/7_KORAYKAVUKCUOGLU/'\n",
    "train8 = 'turkish-academy-voice-challenge-part-2/train/train/8_NURHANATASOY/8_NURHANATASOY/'\n",
    "train9 = 'turkish-academy-voice-challenge-part-2/train/train/9_R0B0T0/9_R0B0T0/'\n",
    "train10= 'turkish-academy-voice-challenge-part-2/train/train/10_RDJ/10_RDJ/'\n",
    "train11= 'turkish-academy-voice-challenge-part-2/train/train/11_COSTEST/11_COSTEST/'\n",
    "\n",
    "\n",
    "features=[]\n",
    "class_value=[]\n",
    "\n",
    "with os.scandir(train0) as entries:\n",
    "    for entry in entries:\n",
    "        if entry.is_file():\n",
    "            audio, sample_rate = librosa.load(train0+entry.name, res_type='kaiser_best') \n",
    "            mfccs = librosa.feature.mfcc(y=audio, sr=sample_rate, n_mfcc=40)\n",
    "        \n",
    "            mfccsscaled = np.mean(mfccs.T,axis=0)\n",
    "            features.append(mfccsscaled)\n",
    "            class_value.append(0)\n",
    "            "
   ]
  },
  {
   "cell_type": "code",
   "execution_count": 2,
   "metadata": {},
   "outputs": [],
   "source": [
    "with os.scandir(train1) as entries:\n",
    "    for entry in entries:\n",
    "        if entry.is_file():\n",
    "            audio, sample_rate = librosa.load(train1+entry.name, res_type='kaiser_best') \n",
    "            mfccs = librosa.feature.mfcc(y=audio, sr=sample_rate, n_mfcc=40)\n",
    "            mfccsscaled = np.mean(mfccs.T,axis=0)\n",
    "            features.append(mfccsscaled)\n",
    "            class_value.append(1)\n"
   ]
  },
  {
   "cell_type": "code",
   "execution_count": 3,
   "metadata": {},
   "outputs": [],
   "source": [
    "with os.scandir(train2) as entries:\n",
    "    for entry in entries:\n",
    "        if entry.is_file():\n",
    "            audio, sample_rate = librosa.load(train2+entry.name, res_type='kaiser_best') \n",
    "            mfccs = librosa.feature.mfcc(y=audio, sr=sample_rate, n_mfcc=40)\n",
    "            mfccsscaled = np.mean(mfccs.T,axis=0)\n",
    "            features.append(mfccsscaled)\n",
    "            class_value.append(2)\n",
    "            \n"
   ]
  },
  {
   "cell_type": "code",
   "execution_count": 4,
   "metadata": {},
   "outputs": [],
   "source": [
    "with os.scandir(train3) as entries:\n",
    "    for entry in entries:\n",
    "        if entry.is_file():\n",
    "            audio, sample_rate = librosa.load(train3+entry.name, res_type='kaiser_best') \n",
    "            mfccs = librosa.feature.mfcc(y=audio, sr=sample_rate, n_mfcc=40)\n",
    "            mfccsscaled = np.mean(mfccs.T,axis=0)\n",
    "            features.append(mfccsscaled)\n",
    "            class_value.append(3)\n"
   ]
  },
  {
   "cell_type": "code",
   "execution_count": 5,
   "metadata": {},
   "outputs": [],
   "source": [
    "with os.scandir(train4) as entries:\n",
    "    for entry in entries:\n",
    "        if entry.is_file():\n",
    "            audio, sample_rate = librosa.load(train4+entry.name, res_type='kaiser_best') \n",
    "            mfccs = librosa.feature.mfcc(y=audio, sr=sample_rate, n_mfcc=40)\n",
    "            mfccsscaled = np.mean(mfccs.T,axis=0)\n",
    "            features.append(mfccsscaled)\n",
    "            class_value.append(4)\n",
    "            \n"
   ]
  },
  {
   "cell_type": "code",
   "execution_count": 6,
   "metadata": {},
   "outputs": [],
   "source": [
    "with os.scandir(train5) as entries:\n",
    "    for entry in entries:\n",
    "        if entry.is_file():\n",
    "            audio, sample_rate = librosa.load(train5+entry.name, res_type='kaiser_best') \n",
    "            mfccs = librosa.feature.mfcc(y=audio, sr=sample_rate, n_mfcc=40)\n",
    "            mfccsscaled = np.mean(mfccs.T,axis=0)\n",
    "            features.append(mfccsscaled)\n",
    "            class_value.append(5)\n"
   ]
  },
  {
   "cell_type": "code",
   "execution_count": 7,
   "metadata": {},
   "outputs": [],
   "source": [
    "with os.scandir(train6) as entries:\n",
    "    for entry in entries:\n",
    "        if entry.is_file():\n",
    "            audio, sample_rate = librosa.load(train6+entry.name, res_type='kaiser_best') \n",
    "            mfccs = librosa.feature.mfcc(y=audio, sr=sample_rate, n_mfcc=40)\n",
    "            mfccsscaled = np.mean(mfccs.T,axis=0)\n",
    "            features.append(mfccsscaled)\n",
    "            class_value.append(6)"
   ]
  },
  {
   "cell_type": "code",
   "execution_count": 8,
   "metadata": {},
   "outputs": [],
   "source": [
    "with os.scandir(train7) as entries:\n",
    "    for entry in entries:\n",
    "        if entry.is_file():\n",
    "            audio, sample_rate = librosa.load(train7+entry.name, res_type='kaiser_best') \n",
    "            mfccs = librosa.feature.mfcc(y=audio, sr=sample_rate, n_mfcc=40)\n",
    "            mfccsscaled = np.mean(mfccs.T,axis=0)\n",
    "            features.append(mfccsscaled)\n",
    "            class_value.append(7)\n"
   ]
  },
  {
   "cell_type": "code",
   "execution_count": 9,
   "metadata": {},
   "outputs": [],
   "source": [
    "with os.scandir(train8) as entries:\n",
    "    for entry in entries:\n",
    "        if entry.is_file():\n",
    "            audio, sample_rate = librosa.load(train8+entry.name, res_type='kaiser_best') \n",
    "            mfccs = librosa.feature.mfcc(y=audio, sr=sample_rate, n_mfcc=40)\n",
    "            mfccsscaled = np.mean(mfccs.T,axis=0)\n",
    "            features.append(mfccsscaled)\n",
    "            class_value.append(8)\n"
   ]
  },
  {
   "cell_type": "code",
   "execution_count": 10,
   "metadata": {},
   "outputs": [],
   "source": [
    "with os.scandir(train9) as entries:\n",
    "    for entry in entries:\n",
    "        if entry.is_file():\n",
    "            audio, sample_rate = librosa.load(train9+entry.name, res_type='kaiser_best') \n",
    "            mfccs = librosa.feature.mfcc(y=audio, sr=sample_rate, n_mfcc=40)\n",
    "            mfccsscaled = np.mean(mfccs.T,axis=0)\n",
    "            features.append(mfccsscaled)\n",
    "            class_value.append(9)\n"
   ]
  },
  {
   "cell_type": "code",
   "execution_count": 11,
   "metadata": {},
   "outputs": [],
   "source": [
    "with os.scandir(train10) as entries:\n",
    "    for entry in entries:\n",
    "        if entry.is_file():\n",
    "            audio, sample_rate = librosa.load(train10+entry.name, res_type='kaiser_best') \n",
    "            mfccs = librosa.feature.mfcc(y=audio, sr=sample_rate, n_mfcc=40)\n",
    "            mfccsscaled = np.mean(mfccs.T,axis=0)\n",
    "            features.append(mfccsscaled)\n",
    "            class_value.append(10)\n"
   ]
  },
  {
   "cell_type": "code",
   "execution_count": 12,
   "metadata": {},
   "outputs": [],
   "source": [
    "with os.scandir(train11) as entries:\n",
    "    for entry in entries:\n",
    "        if entry.is_file():\n",
    "            audio, sample_rate = librosa.load(train11+entry.name, res_type='kaiser_best') \n",
    "            mfccs = librosa.feature.mfcc(y=audio, sr=sample_rate, n_mfcc=40)\n",
    "            mfccsscaled = np.mean(mfccs.T,axis=0)\n",
    "            features.append(mfccsscaled)\n",
    "            class_value.append(11)\n",
    "\n"
   ]
  },
  {
   "cell_type": "code",
   "execution_count": 13,
   "metadata": {},
   "outputs": [],
   "source": [
    "test_voices=[]"
   ]
  },
  {
   "cell_type": "code",
   "execution_count": 14,
   "metadata": {},
   "outputs": [],
   "source": [
    "test_path = 'turkish-academy-voice-challenge-part-2/test_Part2/test_Part2/'\n",
    "with os.scandir(test_path) as entries:\n",
    "    for entry in entries:\n",
    "        if entry.is_file():\n",
    "            audio, sample_rate = librosa.load(test_path+entry.name, res_type='kaiser_best') \n",
    "            mfccs = librosa.feature.mfcc(y=audio, sr=sample_rate, n_mfcc=40)\n",
    "            mfccsscaled = np.mean(mfccs.T,axis=0)\n",
    "            test_voices.append(mfccsscaled)\n",
    "            \n"
   ]
  },
  {
   "cell_type": "code",
   "execution_count": 62,
   "metadata": {},
   "outputs": [],
   "source": [
    "import numpy as np\n",
    "from sklearn.pipeline import make_pipeline\n",
    "from sklearn.preprocessing import StandardScaler"
   ]
  },
  {
   "cell_type": "code",
   "execution_count": 63,
   "metadata": {},
   "outputs": [],
   "source": [
    "from sklearn.svm import SVC"
   ]
  },
  {
   "cell_type": "code",
   "execution_count": 69,
   "metadata": {},
   "outputs": [
    {
     "data": {
      "text/plain": [
       "SVC(C=1.0, break_ties=False, cache_size=200, class_weight=None, coef0=0.0,\n",
       "    decision_function_shape='ovr', degree=3, gamma='scale', kernel='linear',\n",
       "    max_iter=-1, probability=False, random_state=None, shrinking=True,\n",
       "    tol=0.001, verbose=False)"
      ]
     },
     "execution_count": 69,
     "metadata": {},
     "output_type": "execute_result"
    }
   ],
   "source": [
    "from sklearn import svm\n",
    "clf = svm.SVC(kernel='linear')\n",
    "clf.fit(features, class_value)"
   ]
  },
  {
   "cell_type": "code",
   "execution_count": 70,
   "metadata": {},
   "outputs": [],
   "source": [
    "y_pred = clf.predict(test_voices)"
   ]
  },
  {
   "cell_type": "code",
   "execution_count": 74,
   "metadata": {},
   "outputs": [],
   "source": [
    "test_names=[]\n",
    "\n",
    "with os.scandir(test_path) as entries:\n",
    "    for entry in entries:\n",
    "        if entry.is_file():\n",
    "            test_names.append(entry.name)\n",
    "            \n",
    "            "
   ]
  },
  {
   "cell_type": "code",
   "execution_count": 75,
   "metadata": {},
   "outputs": [],
   "source": [
    "import pandas as pd\n",
    "sb = pd.DataFrame()\n",
    "sb[\"Class\"] = y_pred\n",
    "sb[\"Filename\"] = test_names\n",
    "sb.to_csv(\"submission.csv\", index= False)"
   ]
  },
  {
   "cell_type": "code",
   "execution_count": null,
   "metadata": {},
   "outputs": [],
   "source": []
  }
 ],
 "metadata": {
  "kernelspec": {
   "display_name": "Python 3",
   "language": "python",
   "name": "python3"
  },
  "language_info": {
   "codemirror_mode": {
    "name": "ipython",
    "version": 3
   },
   "file_extension": ".py",
   "mimetype": "text/x-python",
   "name": "python",
   "nbconvert_exporter": "python",
   "pygments_lexer": "ipython3",
   "version": "3.7.6"
  }
 },
 "nbformat": 4,
 "nbformat_minor": 4
}
